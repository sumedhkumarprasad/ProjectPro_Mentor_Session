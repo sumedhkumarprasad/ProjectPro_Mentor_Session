{
 "cells": [
  {
   "attachments": {},
   "cell_type": "markdown",
   "metadata": {},
   "source": [
    "String Practice Question"
   ]
  },
  {
   "cell_type": "code",
   "execution_count": 5,
   "metadata": {},
   "outputs": [
    {
     "name": "stdout",
     "output_type": "stream",
     "text": [
      "String Practice Question\n"
     ]
    }
   ],
   "source": [
    "msg = \"String Practice Question\"\n",
    "print(msg)"
   ]
  },
  {
   "cell_type": "code",
   "execution_count": 6,
   "metadata": {},
   "outputs": [],
   "source": [
    "def pattern_string(input_string):\n",
    "    input_string_set = sorted(list(set(input_string )))\n",
    "    empty_string =\"\"\n",
    "    for i in input_string_set:\n",
    "        count_var = str(input_string.count(i))+i\n",
    "        empty_string = empty_string+count_var\n",
    "    \n",
    "    return empty_string"
   ]
  },
  {
   "cell_type": "code",
   "execution_count": 7,
   "metadata": {},
   "outputs": [
    {
     "name": "stdout",
     "output_type": "stream",
     "text": [
      "3a4c5d\n"
     ]
    }
   ],
   "source": [
    "input_string = \"aaaccccddddd\"\n",
    "\n",
    "string_func_output =  pattern_string(input_string)\n",
    "print(string_func_output)"
   ]
  },
  {
   "cell_type": "code",
   "execution_count": 8,
   "metadata": {},
   "outputs": [
    {
     "name": "stdout",
     "output_type": "stream",
     "text": [
      "3a4c5d\n"
     ]
    }
   ],
   "source": [
    "input_string = \"acdccdcaddda\"\n",
    "\n",
    "string_func_output =  pattern_string(input_string)\n",
    "print(string_func_output)"
   ]
  },
  {
   "cell_type": "code",
   "execution_count": 9,
   "metadata": {},
   "outputs": [],
   "source": [
    "# Sample data dictionary\n",
    "data = {\n",
    "    'name': 'John',\n",
    "    'age': 25,\n",
    "    'gender': 'M',\n",
    "    'country': 'USA',\n",
    "    'occupation': 'Engineer',\n",
    "    'education': 'Bachelor'\n",
    "}\n",
    "\n"
   ]
  },
  {
   "cell_type": "code",
   "execution_count": null,
   "metadata": {},
   "outputs": [],
   "source": [
    "# Complex if-elif-else code\n",
    "if data['age'] >= 18:\n",
    "    if data['gender'] == 'M':\n",
    "        if data['occupation'] == 'Engineer':\n",
    "            print(\"Adult male engineer\")\n",
    "        elif data['occupation'] == 'Doctor':\n",
    "            print(\"Adult male doctor\")\n",
    "        else:\n",
    "            print(\"Adult male\")\n",
    "    elif data['gender'] == 'F':\n",
    "        if data['occupation'] == 'Engineer':\n",
    "            print(\"Adult female engineer\")\n",
    "        elif data['occupation'] == 'Doctor':\n",
    "            print(\"Adult female doctor\")\n",
    "        else:\n",
    "            print(\"Adult female\")\n",
    "    else:\n",
    "        print(\"Invalid gender\")\n",
    "else:\n",
    "    print(\"Minor\")\n",
    "\n",
    "# Additional conditions\n",
    "if data['country'] == 'USA' and data['education'] == 'Bachelor':\n",
    "    print(\"USA bachelor's degree holder\")"
   ]
  },
  {
   "cell_type": "code",
   "execution_count": 12,
   "metadata": {},
   "outputs": [
    {
     "name": "stdout",
     "output_type": "stream",
     "text": [
      "6 first\n",
      "1 second\n",
      "1 third\n",
      "2 second\n",
      "2 third\n",
      "3 second\n",
      "3 third\n",
      "4 second\n",
      "7 first\n",
      "1 second\n",
      "1 third\n",
      "2 second\n",
      "2 third\n",
      "3 second\n",
      "3 third\n",
      "4 second\n"
     ]
    }
   ],
   "source": [
    "# Break loop when a specific value is found\n",
    "numbers = [1, 2, 3, 4, 5]\n",
    "num1 = [6,7]\n",
    "for i in num1:\n",
    "    print(i,\"first\")\n",
    "    for num in numbers:\n",
    "        print(num,\"second\")\n",
    "        if num == 4:\n",
    "            break\n",
    "        print(num,\"third\")\n"
   ]
  },
  {
   "cell_type": "code",
   "execution_count": 13,
   "metadata": {},
   "outputs": [
    {
     "name": "stdout",
     "output_type": "stream",
     "text": [
      "1\n",
      "3\n",
      "5\n",
      "7\n",
      "9\n"
     ]
    }
   ],
   "source": [
    "# Skip even numbers using continue\n",
    "numbers = [1, 2, 3, 4, 5, 6, 7, 8, 9, 10]\n",
    "for num in numbers:\n",
    "    if num % 2 == 0:\n",
    "        continue\n",
    "    print(num)\n"
   ]
  },
  {
   "cell_type": "code",
   "execution_count": 14,
   "metadata": {},
   "outputs": [
    {
     "name": "stdout",
     "output_type": "stream",
     "text": [
      "0 0\n",
      "0 1\n",
      "0 2\n",
      "1 0\n",
      "1 1\n",
      "1 2\n",
      "2 0\n",
      "2 1\n"
     ]
    }
   ],
   "source": [
    "# Break out of nested loop\n",
    "for i in range(3):\n",
    "    for j in range(3):\n",
    "        if i == j == 2:\n",
    "            break\n",
    "        print(i, j)"
   ]
  },
  {
   "cell_type": "code",
   "execution_count": 15,
   "metadata": {},
   "outputs": [
    {
     "data": {
      "text/plain": [
       "range(0, 3)"
      ]
     },
     "execution_count": 15,
     "metadata": {},
     "output_type": "execute_result"
    }
   ],
   "source": [
    "range(3)"
   ]
  },
  {
   "cell_type": "code",
   "execution_count": 16,
   "metadata": {},
   "outputs": [
    {
     "name": "stdout",
     "output_type": "stream",
     "text": [
      "0\n",
      "1\n",
      "2\n"
     ]
    }
   ],
   "source": [
    "for i  in range(3):\n",
    "    print(i)"
   ]
  },
  {
   "cell_type": "code",
   "execution_count": 2,
   "metadata": {},
   "outputs": [],
   "source": [
    "# User input\n",
    "num = int(input(\"Enter a number: \"))"
   ]
  },
  {
   "cell_type": "code",
   "execution_count": 3,
   "metadata": {},
   "outputs": [
    {
     "name": "stdout",
     "output_type": "stream",
     "text": [
      "Number is odd\n"
     ]
    }
   ],
   "source": [
    "# Complex if-elif-else code with break\n",
    "if num % 2 == 0:\n",
    "    print(\"Number is even\")\n",
    "    if num > 10:\n",
    "        print(\"Number is greater than 10\")\n",
    "        for i in range(2, num):\n",
    "            if num % i == 0:\n",
    "                print(\"Number is not prime\")\n",
    "                break\n",
    "        else:\n",
    "            print(\"Number is prime\")\n",
    "    else:\n",
    "        print(\"Number is not greater than 10\")\n",
    "else:\n",
    "    print(\"Number is odd\")"
   ]
  },
  {
   "cell_type": "code",
   "execution_count": null,
   "metadata": {},
   "outputs": [],
   "source": []
  }
 ],
 "metadata": {
  "kernelspec": {
   "display_name": "base",
   "language": "python",
   "name": "python3"
  },
  "language_info": {
   "codemirror_mode": {
    "name": "ipython",
    "version": 3
   },
   "file_extension": ".py",
   "mimetype": "text/x-python",
   "name": "python",
   "nbconvert_exporter": "python",
   "pygments_lexer": "ipython3",
   "version": "3.9.13"
  },
  "orig_nbformat": 4,
  "vscode": {
   "interpreter": {
    "hash": "e177774d17516c2b3ef99ae6d3946a2024dbcee18fbaf59858136e1c4fb63c85"
   }
  }
 },
 "nbformat": 4,
 "nbformat_minor": 2
}
